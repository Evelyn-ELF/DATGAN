{
 "cells": [
  {
   "cell_type": "code",
   "execution_count": 1,
   "metadata": {},
   "outputs": [],
   "source": [
    "import os\n",
    "os.chdir('..')"
   ]
  },
  {
   "cell_type": "code",
   "execution_count": 2,
   "metadata": {},
   "outputs": [
    {
     "name": "stdout",
     "output_type": "stream",
     "text": [
      "WARNING:tensorflow:From D:\\Users\\glede\\anaconda3\\envs\\py37\\lib\\site-packages\\tensorpack\\callbacks\\hooks.py:17: The name tf.train.SessionRunHook is deprecated. Please use tf.estimator.SessionRunHook instead.\n",
      "\n",
      "WARNING:tensorflow:From D:\\Users\\glede\\anaconda3\\envs\\py37\\lib\\site-packages\\tensorpack\\tfutils\\optimizer.py:18: The name tf.train.Optimizer is deprecated. Please use tf.compat.v1.train.Optimizer instead.\n",
      "\n",
      "WARNING:tensorflow:From D:\\Users\\glede\\anaconda3\\envs\\py37\\lib\\site-packages\\tensorpack\\tfutils\\sesscreate.py:20: The name tf.train.SessionCreator is deprecated. Please use tf.compat.v1.train.SessionCreator instead.\n",
      "\n"
     ]
    }
   ],
   "source": [
    "import pandas as pd\n",
    "from datgan.datgan import DATGAN\n",
    "\n",
    "import networkx as nx\n",
    "\n",
    "# For the Python notebook\n",
    "%matplotlib inline\n",
    "%reload_ext autoreload\n",
    "%autoreload 2"
   ]
  },
  {
   "cell_type": "code",
   "execution_count": 3,
   "metadata": {},
   "outputs": [],
   "source": [
    "df = pd.read_csv('example/data/CMAP.csv', index_col=False)"
   ]
  },
  {
   "cell_type": "code",
   "execution_count": 4,
   "metadata": {},
   "outputs": [
    {
     "data": {
      "text/html": [
       "<div>\n",
       "<style scoped>\n",
       "    .dataframe tbody tr th:only-of-type {\n",
       "        vertical-align: middle;\n",
       "    }\n",
       "\n",
       "    .dataframe tbody tr th {\n",
       "        vertical-align: top;\n",
       "    }\n",
       "\n",
       "    .dataframe thead th {\n",
       "        text-align: right;\n",
       "    }\n",
       "</style>\n",
       "<table border=\"1\" class=\"dataframe\">\n",
       "  <thead>\n",
       "    <tr style=\"text-align: right;\">\n",
       "      <th></th>\n",
       "      <th>choice</th>\n",
       "      <th>travel_dow</th>\n",
       "      <th>trip_purpose</th>\n",
       "      <th>distance</th>\n",
       "      <th>hh_vehicles</th>\n",
       "      <th>hh_size</th>\n",
       "      <th>hh_bikes</th>\n",
       "      <th>hh_descr</th>\n",
       "      <th>hh_income</th>\n",
       "      <th>gender</th>\n",
       "      <th>age</th>\n",
       "      <th>license</th>\n",
       "      <th>education_level</th>\n",
       "      <th>work_status</th>\n",
       "      <th>departure_time</th>\n",
       "    </tr>\n",
       "  </thead>\n",
       "  <tbody>\n",
       "    <tr>\n",
       "      <th>0</th>\n",
       "      <td>drive</td>\n",
       "      <td>7</td>\n",
       "      <td>HOME_OTHER</td>\n",
       "      <td>3.93477</td>\n",
       "      <td>2</td>\n",
       "      <td>3</td>\n",
       "      <td>3</td>\n",
       "      <td>detached</td>\n",
       "      <td>6</td>\n",
       "      <td>0</td>\n",
       "      <td>30</td>\n",
       "      <td>1</td>\n",
       "      <td>4</td>\n",
       "      <td>PTE</td>\n",
       "      <td>20.166667</td>\n",
       "    </tr>\n",
       "    <tr>\n",
       "      <th>1</th>\n",
       "      <td>drive</td>\n",
       "      <td>2</td>\n",
       "      <td>SHOPPING</td>\n",
       "      <td>0.31557</td>\n",
       "      <td>3</td>\n",
       "      <td>3</td>\n",
       "      <td>3</td>\n",
       "      <td>detached</td>\n",
       "      <td>7</td>\n",
       "      <td>0</td>\n",
       "      <td>54</td>\n",
       "      <td>1</td>\n",
       "      <td>5</td>\n",
       "      <td>FTE</td>\n",
       "      <td>17.500000</td>\n",
       "    </tr>\n",
       "    <tr>\n",
       "      <th>2</th>\n",
       "      <td>drive</td>\n",
       "      <td>2</td>\n",
       "      <td>SHOPPING</td>\n",
       "      <td>0.28349</td>\n",
       "      <td>1</td>\n",
       "      <td>1</td>\n",
       "      <td>0</td>\n",
       "      <td>detached</td>\n",
       "      <td>3</td>\n",
       "      <td>0</td>\n",
       "      <td>80</td>\n",
       "      <td>1</td>\n",
       "      <td>3</td>\n",
       "      <td>PTE</td>\n",
       "      <td>9.333333</td>\n",
       "    </tr>\n",
       "    <tr>\n",
       "      <th>3</th>\n",
       "      <td>drive</td>\n",
       "      <td>2</td>\n",
       "      <td>OTHER</td>\n",
       "      <td>0.69417</td>\n",
       "      <td>2</td>\n",
       "      <td>2</td>\n",
       "      <td>0</td>\n",
       "      <td>detached</td>\n",
       "      <td>5</td>\n",
       "      <td>1</td>\n",
       "      <td>42</td>\n",
       "      <td>1</td>\n",
       "      <td>5</td>\n",
       "      <td>FTE</td>\n",
       "      <td>13.783333</td>\n",
       "    </tr>\n",
       "    <tr>\n",
       "      <th>4</th>\n",
       "      <td>passenger</td>\n",
       "      <td>1</td>\n",
       "      <td>SHOPPING</td>\n",
       "      <td>4.30666</td>\n",
       "      <td>2</td>\n",
       "      <td>2</td>\n",
       "      <td>1</td>\n",
       "      <td>detached</td>\n",
       "      <td>4</td>\n",
       "      <td>0</td>\n",
       "      <td>32</td>\n",
       "      <td>0</td>\n",
       "      <td>3</td>\n",
       "      <td>Unemployed</td>\n",
       "      <td>11.566667</td>\n",
       "    </tr>\n",
       "  </tbody>\n",
       "</table>\n",
       "</div>"
      ],
      "text/plain": [
       "      choice  travel_dow trip_purpose  distance  hh_vehicles  hh_size  \\\n",
       "0      drive           7   HOME_OTHER   3.93477            2        3   \n",
       "1      drive           2     SHOPPING   0.31557            3        3   \n",
       "2      drive           2     SHOPPING   0.28349            1        1   \n",
       "3      drive           2        OTHER   0.69417            2        2   \n",
       "4  passenger           1     SHOPPING   4.30666            2        2   \n",
       "\n",
       "   hh_bikes  hh_descr  hh_income  gender  age  license  education_level  \\\n",
       "0         3  detached          6       0   30        1                4   \n",
       "1         3  detached          7       0   54        1                5   \n",
       "2         0  detached          3       0   80        1                3   \n",
       "3         0  detached          5       1   42        1                5   \n",
       "4         1  detached          4       0   32        0                3   \n",
       "\n",
       "  work_status  departure_time  \n",
       "0         PTE       20.166667  \n",
       "1         FTE       17.500000  \n",
       "2         PTE        9.333333  \n",
       "3         FTE       13.783333  \n",
       "4  Unemployed       11.566667  "
      ]
     },
     "execution_count": 4,
     "metadata": {},
     "output_type": "execute_result"
    }
   ],
   "source": [
    "df.head()"
   ]
  },
  {
   "cell_type": "code",
   "execution_count": 5,
   "metadata": {},
   "outputs": [],
   "source": [
    "continuous_columns = [\"distance\", \"age\", \"departure_time\"]"
   ]
  },
  {
   "cell_type": "code",
   "execution_count": 6,
   "metadata": {},
   "outputs": [],
   "source": [
    "graph = nx.DiGraph()\n",
    "graph.add_edges_from([\n",
    "    (\"age\", \"license\"),\n",
    "    (\"age\", \"education_level\"),\n",
    "    (\"gender\", \"work_status\"),\n",
    "    (\"education_level\", \"work_status\"),\n",
    "    (\"education_level\", \"hh_income\"),\n",
    "    (\"work_status\", \"hh_income\"),\n",
    "    (\"hh_income\", \"hh_descr\"),\n",
    "    (\"hh_income\", \"hh_size\"),\n",
    "    (\"hh_size\", \"hh_vehicles\"),\n",
    "    (\"hh_size\", \"hh_bikes\"),\n",
    "    (\"work_status\", \"trip_purpose\"),\n",
    "    (\"trip_purpose\", \"departure_time\"),\n",
    "    (\"trip_purpose\", \"distance\"),\n",
    "    (\"travel_dow\", \"choice\"),\n",
    "    (\"distance\", \"choice\"),\n",
    "    (\"departure_time\", \"choice\"),\n",
    "    (\"hh_vehicles\", \"choice\"),\n",
    "    (\"hh_bikes\", \"choice\"),\n",
    "    (\"license\", \"choice\"),\n",
    "    (\"education_level\", \"hh_size\"),\n",
    "    (\"work_status\", \"hh_descr\"),\n",
    "    (\"work_status\", \"hh_size\"),\n",
    "    (\"hh_income\", \"hh_bikes\"),\n",
    "    (\"hh_income\", \"hh_vehicles\"),\n",
    "    (\"trip_purpose\", \"choice\")\n",
    "])"
   ]
  },
  {
   "cell_type": "code",
   "execution_count": 7,
   "metadata": {},
   "outputs": [],
   "source": [
    "output_folder = './example/output/'"
   ]
  },
  {
   "cell_type": "code",
   "execution_count": 8,
   "metadata": {},
   "outputs": [],
   "source": [
    "datgan = DATGAN(output=output_folder)"
   ]
  },
  {
   "cell_type": "code",
   "execution_count": 9,
   "metadata": {},
   "outputs": [
    {
     "name": "stdout",
     "output_type": "stream",
     "text": [
      "\u001b[32m[0111 11:19:16 @datgan.py:186]\u001b[0m Preprocessing the data!\n",
      "\u001b[32m[0111 11:19:16 @data.py:110]\u001b[0m Encoding categorical variable \"choice\"...\n",
      "\u001b[32m[0111 11:19:16 @data.py:110]\u001b[0m Encoding categorical variable \"travel_dow\"...\n",
      "\u001b[32m[0111 11:19:16 @data.py:110]\u001b[0m Encoding categorical variable \"trip_purpose\"...\n",
      "\u001b[32m[0111 11:19:16 @data.py:97]\u001b[0m Encoding continuous variable \"distance\"...\n",
      "\u001b[32m[0111 11:19:16 @data.py:284]\u001b[0m   Fitting model with 10 components\n",
      "\u001b[32m[0111 11:19:24 @data.py:311]\u001b[0m   Predictions were done on 7 components => Fit with 7 components!\n",
      "\u001b[32m[0111 11:19:31 @data.py:311]\u001b[0m   Predictions were done on 6 components => Fit with 6 components!\n",
      "\u001b[32m[0111 11:19:37 @data.py:316]\u001b[0m   Predictions were done on 6 components => FINISHED!\n",
      "\u001b[32m[0111 11:19:37 @data.py:319]\u001b[0m   Train VGM with full data\n",
      "\u001b[32m[0111 11:19:43 @data.py:110]\u001b[0m Encoding categorical variable \"hh_vehicles\"...\n",
      "\u001b[32m[0111 11:19:43 @data.py:110]\u001b[0m Encoding categorical variable \"hh_size\"...\n",
      "\u001b[32m[0111 11:19:43 @data.py:110]\u001b[0m Encoding categorical variable \"hh_bikes\"...\n",
      "\u001b[32m[0111 11:19:43 @data.py:110]\u001b[0m Encoding categorical variable \"hh_descr\"...\n",
      "\u001b[32m[0111 11:19:43 @data.py:110]\u001b[0m Encoding categorical variable \"hh_income\"...\n",
      "\u001b[32m[0111 11:19:43 @data.py:110]\u001b[0m Encoding categorical variable \"gender\"...\n",
      "\u001b[32m[0111 11:19:43 @data.py:97]\u001b[0m Encoding continuous variable \"age\"...\n",
      "\u001b[32m[0111 11:19:43 @data.py:284]\u001b[0m   Fitting model with 10 components\n",
      "\u001b[32m[0111 11:19:52 @data.py:311]\u001b[0m   Predictions were done on 5 components => Fit with 5 components!\n",
      "\u001b[32m[0111 11:19:58 @data.py:316]\u001b[0m   Predictions were done on 5 components => FINISHED!\n",
      "\u001b[32m[0111 11:19:58 @data.py:319]\u001b[0m   Train VGM with full data\n",
      "\u001b[32m[0111 11:20:04 @data.py:110]\u001b[0m Encoding categorical variable \"license\"...\n",
      "\u001b[32m[0111 11:20:04 @data.py:110]\u001b[0m Encoding categorical variable \"education_level\"...\n",
      "\u001b[32m[0111 11:20:04 @data.py:110]\u001b[0m Encoding categorical variable \"work_status\"...\n",
      "\u001b[32m[0111 11:20:04 @data.py:97]\u001b[0m Encoding continuous variable \"departure_time\"...\n",
      "\u001b[32m[0111 11:20:04 @data.py:284]\u001b[0m   Fitting model with 10 components\n",
      "\u001b[32m[0111 11:20:12 @data.py:311]\u001b[0m   Predictions were done on 6 components => Fit with 6 components!\n",
      "\u001b[32m[0111 11:20:19 @data.py:316]\u001b[0m   Predictions were done on 6 components => FINISHED!\n",
      "\u001b[32m[0111 11:20:19 @data.py:319]\u001b[0m   Train VGM with full data\n",
      "\u001b[32m[0111 11:20:26 @datgan.py:205]\u001b[0m Preprocessed data have been saved in './example/output/encoded_data'\n"
     ]
    }
   ],
   "source": [
    "datgan.preprocess(df, continuous_columns, preprocessed_data_path='./example/encoded_data')"
   ]
  },
  {
   "cell_type": "code",
   "execution_count": null,
   "metadata": {},
   "outputs": [],
   "source": []
  }
 ],
 "metadata": {
  "kernelspec": {
   "display_name": "Python 3",
   "language": "python",
   "name": "python3"
  },
  "language_info": {
   "codemirror_mode": {
    "name": "ipython",
    "version": 3
   },
   "file_extension": ".py",
   "mimetype": "text/x-python",
   "name": "python",
   "nbconvert_exporter": "python",
   "pygments_lexer": "ipython3",
   "version": "3.7.9"
  }
 },
 "nbformat": 4,
 "nbformat_minor": 4
}
